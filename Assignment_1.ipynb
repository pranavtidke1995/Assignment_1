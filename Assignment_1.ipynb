{
  "nbformat": 4,
  "nbformat_minor": 0,
  "metadata": {
    "colab": {
      "provenance": []
    },
    "kernelspec": {
      "name": "python3",
      "display_name": "Python 3"
    },
    "language_info": {
      "name": "python"
    }
  },
  "cells": [
    {
      "cell_type": "markdown",
      "source": [
        "# Theory Question\n"
      ],
      "metadata": {
        "id": "z_KVwqw8XZNL"
      }
    },
    {
      "cell_type": "markdown",
      "source": [
        "1. What is Python, and why is it popular?\n",
        "  :- Python is an interpreted, object oriented, high-level programming language with dynamic semantis.\n",
        "   Python is popular because it is\n",
        "   . easy to learn\n",
        "   . Python is free to use and distribute even for commericial purpose\n",
        "   . python runs on many different platforms, including Linux, Mac OS and windows.\n",
        "   . Python integrates well with other popular programming languages such as Java, C, C++.\n",
        "   .Large standard library.\n",
        "\n",
        "2. What is an interpreter in Python?\n",
        "  :- An interpreter in Python is a program that reads and executes Python code line by line, translating it into machine code that the computer can understand and execute. It acts as a bridge between the human-readable Python code and the underlying hardware of the computer.\n",
        "\n",
        "3. What are pre-defined keywords in Python?\n",
        "  :- Predefined kyewords are special words that are part of the python language syntax. These keywords have specific meaning and purpose.\n",
        "  some common keywords are: if, else, for, while, AND, OR, NOT, True, false, none..etc.\n",
        "\n",
        "4. Can keywords be used as variable name?\n",
        "  :- No, Keywords cannot be used as vsribale name in Python if we do so it will throw error i.e Syntex Error: invalid syntex\n",
        "\n",
        "5. What is mutability in Python?\n",
        "  :- In Python, mutability refers to the ability to change the value of an object after it has been created.\n",
        "\n",
        "Mutable Objects:\n",
        " .Can be modified in-place.\n",
        " .Changes made to the object are reflected in all references to that object.\n",
        " .Examples: Lists, dictionaries, sets.\n",
        "\n",
        "Immutable Objects:\n",
        " .Cannot be changed after creation.\n",
        " .Creating a new object with the desired changes is necessary.\n",
        " .Examples: Integers, floats, strings, tuples.\n",
        "\n",
        "6. Why are lists mutable, but tuples are immutable?\n",
        "  :- In Python, lists are mutable, meaning you can change their contents after they are created. This flexibility allows you to add, remove, or modify elements within the list.\n",
        "\n",
        " On the other hand, tuples are immutable, which means their contents cannot be changed once they are created. This immutability has several advantages:\n",
        "\n",
        " .Efficiency: Tuples are generally more memory-efficient than lists because they are static in size. This makes them faster to access and iterate over.\n",
        " .Hashing: Tuples can be used as keys in dictionaries because they are hashable. Lists, being mutable, cannot be used as dictionary keys.\n",
        " .Data Integrity: Immutability ensures that the contents of a tuple remain unchanged, which can be important in certain situations where you want to guarantee that the data remains consistent.\n",
        "\n",
        "  \n",
        "7. What is the difference between “==” and “is” operators in Python?\n",
        "  :- In Python, both == and is operators are used for comparison, but they have different meanings:\n",
        "\n",
        "== (Equality Operator)\n",
        " .Checks if the values of two objects are equal.\n",
        " .Compares the contents of the objects.\n",
        "\n",
        "is (Identity Operator)\n",
        " .Checks if two variables refer to the same object in memory.\n",
        " .Compares the memory addresses of the objects.\n",
        "\n",
        "8.  What are logical operators in Python?\n",
        "  :- Logical operators in Python are used to combine multiple conditions and determine the overall truth value of an expression. They are essential for controlling the flow of your code based on different combinations of conditions. Python provides three main logical operators:\n",
        "Example: AND, OR, NOT.\n",
        "\n",
        "9. What is type casting in Python?\n",
        "  :- Type casting in Python refers to the process of converting a variable from one data type to another. Python provides built-in functions for type casting, allowing developers to change the type of a variable explicitly.\n",
        "Common functions used:\n",
        "1.Explicit Type Casting:\n",
        ".int(): Converts to an integer.\n",
        ".float(): Converts to a floating-point number.\n",
        ".str(): Converts to a string.\n",
        ".bool(): Converts to a boolean.\n",
        ".list(): Converts to a list.\n",
        ".tuple(): Converts to a tuple.\n",
        ".set(): Converts to a set.\n",
        "\n",
        "2.Implicit Type Casting:\n",
        ".Implicit Type Conversion: Python sometimes performs type conversion automatically (e.g., when dividing an integer by a float).\n",
        ".Explicit Type Conversion: You can explicitly perform type conversion using the functions mentioned above.\n",
        "\n",
        "\n",
        "10. What is the difference between implicit and explicit type casting?\n",
        "  :- 1.Implicit Type Casting:\n",
        " .Python automatically converts one data type to another without any user intervention. This happens when Python determines that the conversion is safe and won't result in data loss.\n",
        " .Occurs during operations involving different data types where Python promotes the \"lower precision\" type to a \"higher precision\" type to maintain accuracy.\n",
        "  2.Explicit Type Casting:\n",
        " .The programmer explicitly uses built-in functions to convert a variable from one data type to another.\n",
        " .Used when automatic conversion isn't available, or when a specific type is required for an operation or function.\n",
        "\n",
        "11. What is the purpose of conditional statements in Python?\n",
        " :- The purpose of conditional statements in Python is to control the flow of a program based on specific conditions. They allow a program to make decisions and execute certain blocks of code only when certain conditions are met.\n",
        "\n",
        "12.  How does the elif statement work?\n",
        "  :- The elif statement in Python is used to check multiple conditions in a sequential manner. It stands for \"else if\" and allows you to test additional conditions if the initial if condition is False.\n",
        "If a condition in an elif statement evaluates to True, its corresponding block of code executes, and the rest of the elif and else blocks are skipped.\n",
        "\n",
        "13. What is the difference between for and while loops?\n",
        "  :- 1. For Loop\n",
        "Definition: The for loop iterates over a sequence (e.g., list, string, tuple, range, dictionary) or other iterable objects. It is primarily used when the number of iterations is known or when you need to iterate over each element in a collection.\n",
        "Key Features:\n",
        " .Iterates over elements in a sequence.\n",
        " .Automatically stops when it reaches the end of the sequence.\n",
        " .Commonly used for iterating through data structures like lists, strings, or ranges.\n",
        "   \n",
        "   2.While Loop\n",
        "Definition: The while loop repeats as long as a specified condition remains True. It is used when the number of iterations is not predetermined and depends on a condition.\n",
        "Key Features:\n",
        ".Executes the block of code repeatedly as long as the condition is True.\n",
        ".Requires manual updates to variables affecting the condition to avoid infinite loops.\n",
        ".Commonly used for indefinite or condition-dependent iterations.\n",
        "\n",
        "14. Describe a scenario where a while loop is more suitable than a for loop?\n",
        "  :- Let's say you're writing a program that asks the user to enter a positive integer. You want to keep prompting the user until they enter a valid input.\n",
        "\n",
        "Why a While Loop is Better:\n",
        "\n",
        "Unknown Number of Iterations: You don't know how many times the user will enter invalid input. A while loop allows you to repeatedly ask for input until the condition (valid integer) is met.\n",
        "Example:\n",
        "\n",
        "Python\n",
        "\n",
        "while True:\n",
        "    user_input = input(\"Enter a positive integer: \")\n",
        "    try:\n",
        "        number = int(user_input)\n",
        "        if number > 0:\n",
        "            break  # Exit the loop if the input is valid\n",
        "        else:\n",
        "            print(\"Please enter a positive integer.\")\n",
        "    except ValueError:\n",
        "        print(\"Invalid input. Please enter an integer.\")\n",
        "In this scenario, a while loop is more suitable because:\n",
        "\n",
        " .Flexibility: It can handle an indefinite number of user attempts.\n",
        " .Clear Condition: The loop continues as long as a valid positive integer is not entered.\n",
        "This example demonstrates how a while loop excels when the number of iterations is uncertain and depends on user input or external events.\n"
      ],
      "metadata": {
        "id": "7RnS_K4kXhav"
      }
    },
    {
      "cell_type": "code",
      "execution_count": 1,
      "metadata": {
        "colab": {
          "base_uri": "https://localhost:8080/"
        },
        "id": "PPmGYNTQUPPV",
        "outputId": "bc5673ea-3a68-41dd-e357-fa0a1f8e6dfc"
      },
      "outputs": [
        {
          "output_type": "stream",
          "name": "stdout",
          "text": [
            "Hello, World!\n"
          ]
        }
      ],
      "source": [
        "# Write a Python program to print \"Hello, World!_\n",
        "...\n",
        "print(\"Hello, World!\")\n",
        "...\n"
      ]
    },
    {
      "cell_type": "code",
      "source": [
        "# Write a Python program that displays your name and age0\n",
        "...\n",
        "name = \"Pranav\"\n",
        "age = 29\n",
        "print(\"My name is\", name, \"and I am\", age, \"years old.\")\n",
        "...\n"
      ],
      "metadata": {
        "colab": {
          "base_uri": "https://localhost:8080/"
        },
        "id": "dsWBIiWbVbn1",
        "outputId": "040583e5-fcee-401f-e4a9-8c203c27d024"
      },
      "execution_count": 2,
      "outputs": [
        {
          "output_type": "stream",
          "name": "stdout",
          "text": [
            "My name is Pranav and I am 29 years old.\n"
          ]
        }
      ]
    },
    {
      "cell_type": "code",
      "source": [
        "# Write code to print all the pre-defined keywords in Python using the keyword library\n",
        "...\n",
        "import keyword\n",
        "\n",
        "print(\"List of Python keywords:\")\n",
        "for word in keyword.kwlist:\n",
        "    print(word)\n",
        "...\n"
      ],
      "metadata": {
        "colab": {
          "base_uri": "https://localhost:8080/"
        },
        "id": "VbNbpfEnmYCo",
        "outputId": "7d3ee497-d571-46b8-ca87-81451765cc27"
      },
      "execution_count": 3,
      "outputs": [
        {
          "output_type": "stream",
          "name": "stdout",
          "text": [
            "List of Python keywords:\n",
            "False\n",
            "None\n",
            "True\n",
            "and\n",
            "as\n",
            "assert\n",
            "async\n",
            "await\n",
            "break\n",
            "class\n",
            "continue\n",
            "def\n",
            "del\n",
            "elif\n",
            "else\n",
            "except\n",
            "finally\n",
            "for\n",
            "from\n",
            "global\n",
            "if\n",
            "import\n",
            "in\n",
            "is\n",
            "lambda\n",
            "nonlocal\n",
            "not\n",
            "or\n",
            "pass\n",
            "raise\n",
            "return\n",
            "try\n",
            "while\n",
            "with\n",
            "yield\n"
          ]
        }
      ]
    },
    {
      "cell_type": "code",
      "source": [
        "#Write a program that checks if a given word is a Python keyword\n",
        "...\n",
        "import keyword\n",
        "\n",
        "# Get user input\n",
        "word = input(\"Enter a word to check if it's a Python keyword: \")\n",
        "\n",
        "# Check if the word is a keyword\n",
        "if keyword.iskeyword(word):\n",
        "    print(f\"'{word}' is a Python keyword.\")\n",
        "else:\n",
        "    print(f\"'{word}' is not a Python keyword.\")\n",
        "...\n"
      ],
      "metadata": {
        "colab": {
          "base_uri": "https://localhost:8080/"
        },
        "id": "9UamQc5ineEG",
        "outputId": "905356a8-b278-45c5-9711-1e03b92b1ecc"
      },
      "execution_count": 4,
      "outputs": [
        {
          "output_type": "stream",
          "name": "stdout",
          "text": [
            "Enter a word to check if it's a Python keyword: pass\n",
            "'pass' is a Python keyword.\n"
          ]
        }
      ]
    },
    {
      "cell_type": "code",
      "source": [
        "#  Create a list and tuple in Python, and demonstrate how attempting to change an element works differently for each\n",
        "...\n",
        "# Create a list\n",
        "my_list = [1, 2, 3]\n",
        "\n",
        "# Attempt to change the first element of the list\n",
        "my_list[0] = 10\n",
        "\n",
        "print(\"List after modification:\", my_list)  # Output: List after modification: [10, 2, 3]\n",
        "\n",
        "# Create a tuple\n",
        "my_tuple = (1, 2, 3)\n",
        "\n",
        "# Attempt to change the first element of the tuple\n",
        "try:\n",
        "    my_tuple[0] = 10\n",
        "except TypeError:\n",
        "    print(\"Tuples are immutable. Cannot change elements.\")\n",
        "\n",
        "print(\"Tuple after modification:\", my_tuple)  # Output: Tuple after modification: (1, 2, 3)\n",
        "..."
      ],
      "metadata": {
        "colab": {
          "base_uri": "https://localhost:8080/"
        },
        "id": "ZEUV6SrAoSdT",
        "outputId": "d28342d2-7cac-48b8-af86-2e325a160921"
      },
      "execution_count": 5,
      "outputs": [
        {
          "output_type": "stream",
          "name": "stdout",
          "text": [
            "List after modification: [10, 2, 3]\n",
            "Tuples are immutable. Cannot change elements.\n",
            "Tuple after modification: (1, 2, 3)\n"
          ]
        }
      ]
    },
    {
      "cell_type": "code",
      "source": [
        "# Write a function to demonstrate the behavior of mutable and immutable arguments\n",
        "...\n",
        "def modify_data(data):\n",
        "  \"\"\"\n",
        "  Demonstrates the behavior of mutable and immutable arguments.\n",
        "\n",
        "  Args:\n",
        "    data: The data to be modified (can be a list or a number).\n",
        "  \"\"\"\n",
        "  if isinstance(data, list):\n",
        "    # If data is a list (mutable)\n",
        "    data.append(4)  # Modifies the original list\n",
        "    print(\"Inside function (list):\", data)\n",
        "\n",
        "  elif isinstance(data, (int, float)):\n",
        "    # If data is a number (immutable)\n",
        "    data = data * 2  # Creates a new number, doesn't modify the original\n",
        "    print(\"Inside function (number):\", data)\n",
        "\n",
        "# Test with a list (mutable)\n",
        "my_list = [1, 2, 3]\n",
        "modify_data(my_list)\n",
        "print(\"Outside function (list):\", my_list)  # List is modified\n",
        "\n",
        "# Test with a number (immutable)\n",
        "my_number = 7\n",
        "modify_data(my_number)\n",
        "print(\"Outside function (number):\", my_number)  # Number remains unchanged\n",
        "..."
      ],
      "metadata": {
        "colab": {
          "base_uri": "https://localhost:8080/"
        },
        "id": "t9eHdcAGpE4F",
        "outputId": "1af5c946-02d3-4725-f783-ef99ac75be2a"
      },
      "execution_count": 6,
      "outputs": [
        {
          "output_type": "stream",
          "name": "stdout",
          "text": [
            "Inside function (list): [1, 2, 3, 4]\n",
            "Outside function (list): [1, 2, 3, 4]\n",
            "Inside function (number): 14\n",
            "Outside function (number): 7\n"
          ]
        }
      ]
    },
    {
      "cell_type": "code",
      "source": [
        "# Write a function to demonstrate the behavior of mutable and immutable arguments\n",
        "...\n",
        "def modify_data(data):\n",
        "  if isinstance(data, list):\n",
        "    # If data is a list (mutable)\n",
        "    data.append(4)  # Modifies the original list\n",
        "    print(\"Inside function (list):\", data)\n",
        "\n",
        "  elif isinstance(data, (int, float)):\n",
        "    # If data is a number (immutable)\n",
        "    data = data * 2  # Creates a new number, doesn't modify the original\n",
        "    print(\"Inside function (number):\", data)\n",
        "\n",
        "# Test with a list (mutable)\n",
        "my_list = [1, 2, 3]\n",
        "modify_data(my_list)\n",
        "print(\"Outside function (list):\", my_list)  # List is modified\n",
        "\n",
        "# Test with a number (immutable)\n",
        "my_number = 5\n",
        "modify_data(my_number)\n",
        "print(\"Outside function (number):\", my_number)  # Number remains unchanged\n",
        "...\n"
      ],
      "metadata": {
        "colab": {
          "base_uri": "https://localhost:8080/"
        },
        "id": "-7PYXGaXpkWg",
        "outputId": "c6bda0ae-6966-4892-c8bd-028023665770"
      },
      "execution_count": 7,
      "outputs": [
        {
          "output_type": "stream",
          "name": "stdout",
          "text": [
            "Inside function (list): [1, 2, 3, 4]\n",
            "Outside function (list): [1, 2, 3, 4]\n",
            "Inside function (number): 10\n",
            "Outside function (number): 5\n"
          ]
        }
      ]
    },
    {
      "cell_type": "code",
      "source": [
        "# Write a program to demonstrate the use of logical operators\n",
        "...\n",
        "def check_conditions(age, height):\n",
        "\n",
        "  # Requirements:\n",
        "  # - Must be at least 12 years old\n",
        "  # - Must be at least 150 cm tall\n",
        "  return age >= 12 and height >= 150\n",
        "\n",
        "# Get user input\n",
        "user_age = int(input(\"Enter your age: \"))\n",
        "user_height = int(input(\"Enter your height (in cm): \"))\n",
        "\n",
        "# Check if the user meets the requirements\n",
        "if check_conditions(user_age, user_height):\n",
        "  print(\"You can ride the roller coaster!\")\n",
        "else:\n",
        "  print(\"You cannot ride the roller coaster.\")\n",
        "  ..."
      ],
      "metadata": {
        "id": "I88JwNz-r4A8"
      },
      "execution_count": null,
      "outputs": []
    },
    {
      "cell_type": "code",
      "source": [
        "# Write a Python program to convert user input from string to integer, float, and boolean types\n",
        "...\n",
        "def convert_input():\n",
        "    # Get input from the user\n",
        "    user_input = input(\"Enter a value: \")\n",
        "\n",
        "    # Convert to integer\n",
        "    try:\n",
        "        int_value = int(user_input)\n",
        "        print(f\"Integer: {int_value}\")\n",
        "    except ValueError:\n",
        "        print(\"Conversion to Integer failed.\")\n",
        "\n",
        "    # Convert to float\n",
        "    try:\n",
        "        float_value = float(user_input)\n",
        "        print(f\"Float: {float_value}\")\n",
        "    except ValueError:\n",
        "        print(\"Conversion to Float failed.\")\n",
        "\n",
        "    # Convert to boolean\n",
        "    # Non-empty strings are treated as True, except for the string \"0\"\n",
        "    bool_value = bool(user_input) and user_input != \"0\"\n",
        "    print(f\"Boolean: {bool_value}\")\n",
        "\n",
        "# Call the function\n",
        "convert_input()\n",
        "...\n"
      ],
      "metadata": {
        "colab": {
          "base_uri": "https://localhost:8080/"
        },
        "id": "ssUFWVh5sc9q",
        "outputId": "7a4008d9-98fd-4b57-cc09-5b4c3e1e5178"
      },
      "execution_count": 8,
      "outputs": [
        {
          "output_type": "stream",
          "name": "stdout",
          "text": [
            "Enter a value: pranav\n",
            "Conversion to Integer failed.\n",
            "Conversion to Float failed.\n",
            "Boolean: True\n"
          ]
        }
      ]
    },
    {
      "cell_type": "code",
      "source": [
        "# Write code to demonstrate type casting with list elements\n",
        "...\n",
        "# Sample list with various data types\n",
        "my_list = [10, 3.14, \"hello\", True]\n",
        "\n",
        "# Type casting each element to string\n",
        "string_list = [str(item) for item in my_list]\n",
        "print(\"List of strings:\", string_list)\n",
        "\n",
        "# Type casting each element to integer (if possible)\n",
        "integer_list = []\n",
        "for item in my_list:\n",
        "  try:\n",
        "    integer_list.append(int(item))\n",
        "  except ValueError:\n",
        "    integer_list.append(None)  # Handle non-convertible elements\n",
        "print(\"List of integers:\", integer_list)\n",
        "\n",
        "# Type casting each element to float (if possible)\n",
        "float_list = []\n",
        "for item in my_list:\n",
        "  try:\n",
        "    float_list.append(float(item))\n",
        "  except ValueError:\n",
        "    float_list.append(None)  # Handle non-convertible elements\n",
        "print(\"List of floats:\", float_list)\n",
        "..."
      ],
      "metadata": {
        "colab": {
          "base_uri": "https://localhost:8080/"
        },
        "id": "-FAqzYe7tq9Y",
        "outputId": "205d45a4-7cf5-4f9b-fcc6-f6ac928f4d63"
      },
      "execution_count": 9,
      "outputs": [
        {
          "output_type": "stream",
          "name": "stdout",
          "text": [
            "List of strings: ['10', '3.14', 'hello', 'True']\n",
            "List of integers: [10, 3, None, 1]\n",
            "List of floats: [10.0, 3.14, None, 1.0]\n"
          ]
        }
      ]
    },
    {
      "cell_type": "code",
      "source": [
        "# 0 Write a program that checks if a number is positive, negative, or zero\n",
        "...\n",
        "def check_number():\n",
        "    # Get input from the user\n",
        "    try:\n",
        "        number = float(input(\"Enter a number: \"))\n",
        "\n",
        "        # Check if the number is positive, negative, or zero\n",
        "        if number > 0:\n",
        "            print(f\"{number} is a positive number.\")\n",
        "        elif number < 0:\n",
        "            print(f\"{number} is a negative number.\")\n",
        "        else:\n",
        "            print(f\"The number is zero.\")\n",
        "    except ValueError:\n",
        "        print(\"Invalid input! Please enter a numeric value.\")\n",
        "\n",
        "# Call the function\n",
        "check_number()\n",
        "..."
      ],
      "metadata": {
        "colab": {
          "base_uri": "https://localhost:8080/"
        },
        "id": "bzzaazIQtmh1",
        "outputId": "480233ca-ecc8-4dfa-b33e-b2976847d624"
      },
      "execution_count": 10,
      "outputs": [
        {
          "output_type": "stream",
          "name": "stdout",
          "text": [
            "Enter a number: 23\n",
            "23.0 is a positive number.\n"
          ]
        }
      ]
    },
    {
      "cell_type": "code",
      "source": [
        "#   Write a for loop to print numbers from 1 to 100\n",
        "...\n",
        "for i in range(1, 101):\n",
        "  print(i)\n",
        "..."
      ],
      "metadata": {
        "colab": {
          "base_uri": "https://localhost:8080/"
        },
        "id": "KDFd0-SNuvd-",
        "outputId": "c8f0ea52-1775-4f9e-dfab-89095f264a47"
      },
      "execution_count": 11,
      "outputs": [
        {
          "output_type": "stream",
          "name": "stdout",
          "text": [
            "1\n",
            "2\n",
            "3\n",
            "4\n",
            "5\n",
            "6\n",
            "7\n",
            "8\n",
            "9\n",
            "10\n",
            "11\n",
            "12\n",
            "13\n",
            "14\n",
            "15\n",
            "16\n",
            "17\n",
            "18\n",
            "19\n",
            "20\n",
            "21\n",
            "22\n",
            "23\n",
            "24\n",
            "25\n",
            "26\n",
            "27\n",
            "28\n",
            "29\n",
            "30\n",
            "31\n",
            "32\n",
            "33\n",
            "34\n",
            "35\n",
            "36\n",
            "37\n",
            "38\n",
            "39\n",
            "40\n",
            "41\n",
            "42\n",
            "43\n",
            "44\n",
            "45\n",
            "46\n",
            "47\n",
            "48\n",
            "49\n",
            "50\n",
            "51\n",
            "52\n",
            "53\n",
            "54\n",
            "55\n",
            "56\n",
            "57\n",
            "58\n",
            "59\n",
            "60\n",
            "61\n",
            "62\n",
            "63\n",
            "64\n",
            "65\n",
            "66\n",
            "67\n",
            "68\n",
            "69\n",
            "70\n",
            "71\n",
            "72\n",
            "73\n",
            "74\n",
            "75\n",
            "76\n",
            "77\n",
            "78\n",
            "79\n",
            "80\n",
            "81\n",
            "82\n",
            "83\n",
            "84\n",
            "85\n",
            "86\n",
            "87\n",
            "88\n",
            "89\n",
            "90\n",
            "91\n",
            "92\n",
            "93\n",
            "94\n",
            "95\n",
            "96\n",
            "97\n",
            "98\n",
            "99\n",
            "100\n"
          ]
        }
      ]
    },
    {
      "cell_type": "code",
      "source": [
        "# Write a Python program to find the sum of all even numbers between 1 and 500\n",
        "...\n",
        "# Initialize a variable to store the sum\n",
        "sum_of_even_numbers = 0\n",
        "\n",
        "# Iterate through numbers from 1 to 500\n",
        "for i in range(2, 501, 2):\n",
        "    # Add the even number to the sum\n",
        "    sum_of_even_numbers += i\n",
        "\n",
        "# Print the sum of even numbers\n",
        "print(\"Sum of even numbers between 1 and 500:\", sum_of_even_numbers)\n",
        "...\n"
      ],
      "metadata": {
        "colab": {
          "base_uri": "https://localhost:8080/"
        },
        "id": "0mrD1dFpvE9I",
        "outputId": "34da87cf-068d-439e-c5cf-4cb9475bae2f"
      },
      "execution_count": 12,
      "outputs": [
        {
          "output_type": "stream",
          "name": "stdout",
          "text": [
            "Sum of even numbers between 1 and 500: 62750\n"
          ]
        }
      ]
    },
    {
      "cell_type": "code",
      "source": [
        "# Write a program to reverse a string using a while loop\n",
        "...\n",
        "def reverse_string_while_loop(input_string):\n",
        "    reversed_string = \"\"\n",
        "    index = len(input_string) - 1  # Start from the last character\n",
        "\n",
        "    # Loop through the string in reverse order\n",
        "    while index >= 0:\n",
        "        reversed_string += input_string[index]\n",
        "        index -= 1\n",
        "\n",
        "    return reversed_string\n",
        "\n",
        "# Get input from the user\n",
        "user_input = input(\"Enter a string to reverse: \")\n",
        "\n",
        "# Call the function and display the result\n",
        "reversed_result = reverse_string_while_loop(user_input)\n",
        "print(f\"Reversed string: {reversed_result}\")\n",
        "...\n"
      ],
      "metadata": {
        "colab": {
          "base_uri": "https://localhost:8080/"
        },
        "id": "BiKb5YQcvOVV",
        "outputId": "c0357d16-2f1e-4ea8-ecb3-8047924de496"
      },
      "execution_count": 13,
      "outputs": [
        {
          "output_type": "stream",
          "name": "stdout",
          "text": [
            "Enter a string to reverse: SAKSHI\n",
            "Reversed string: IHSKAS\n"
          ]
        }
      ]
    },
    {
      "cell_type": "code",
      "source": [
        "# Write a Python program to calculate the factorial of a number provided by the user using a while loop\n",
        "...\n",
        "def calculate_factorial(number):\n",
        "    if number < 0:\n",
        "        return \"Factorial is not defined for negative numbers.\"\n",
        "    elif number == 0 or number == 1:\n",
        "        return 1  # Factorial of 0 or 1 is 1\n",
        "\n",
        "    factorial = 1\n",
        "    while number > 1:\n",
        "        factorial *= number\n",
        "        number -= 1  # Decrement the number\n",
        "    return factorial\n",
        "\n",
        "# Get input from the user\n",
        "try:\n",
        "    user_input = int(input(\"Enter a non-negative integer: \"))\n",
        "    result = calculate_factorial(user_input)\n",
        "    print(f\"The factorial of {user_input} is: {result}\")\n",
        "except ValueError:\n",
        "    print(\"Invalid input! Please enter a valid non-negative integer.\")\n",
        "...\n"
      ],
      "metadata": {
        "colab": {
          "base_uri": "https://localhost:8080/"
        },
        "id": "My9hhVOLvp36",
        "outputId": "ec3065cd-1dd8-4e8c-e0da-9fc149b40ce8"
      },
      "execution_count": 14,
      "outputs": [
        {
          "output_type": "stream",
          "name": "stdout",
          "text": [
            "Enter a non-negative integer: 8\n",
            "The factorial of 8 is: 40320\n"
          ]
        }
      ]
    }
  ]
}